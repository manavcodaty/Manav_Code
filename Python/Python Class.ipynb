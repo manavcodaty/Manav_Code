{
 "cells": [
  {
   "cell_type": "code",
   "execution_count": 4,
   "metadata": {},
   "outputs": [],
   "source": [
    "def subtraction():\n",
    "    num1 = 20\n",
    "    num2 = 40\n",
    "    num3 = num2-num1\n",
    "    print(num3)"
   ]
  },
  {
   "cell_type": "code",
   "execution_count": 3,
   "metadata": {},
   "outputs": [
    {
     "name": "stdout",
     "output_type": "stream",
     "text": [
      "800\n"
     ]
    }
   ],
   "source": [
    "def multiplication():\n",
    "    num1 = 20\n",
    "    num2 = 40\n",
    "    num3 = num1*num2\n",
    "    print(num3)\n",
    "\n",
    "\n",
    "multiplication()"
   ]
  },
  {
   "cell_type": "code",
   "execution_count": 6,
   "metadata": {},
   "outputs": [
    {
     "name": "stdout",
     "output_type": "stream",
     "text": [
      "what is your name?\n",
      "manav\n"
     ]
    }
   ],
   "source": [
    "def takename():\n",
    "  print(\"what is your name?\")\n",
    "  name = input()\n",
    "  return name\n",
    "name1 = takename()\n",
    "print(name1)\n"
   ]
  },
  {
   "cell_type": "code",
   "execution_count": 26,
   "metadata": {},
   "outputs": [
    {
     "name": "stdout",
     "output_type": "stream",
     "text": [
      "21\n"
     ]
    }
   ],
   "source": [
    "def someFunction():\n",
    "    var1 = input(\"type in first number\")\n",
    "    var2 = input(\"type in second number\")\n",
    "    result = var1 + var2\n",
    "    return(result)\n",
    "\n",
    "print(someFunction())"
   ]
  },
  {
   "cell_type": "code",
   "execution_count": 9,
   "metadata": {},
   "outputs": [
    {
     "name": "stdout",
     "output_type": "stream",
     "text": [
      "('manavcodaty', 2008)\n"
     ]
    }
   ],
   "source": [
    "def someFunction(a, b):\n",
    "    result = a + b\n",
    "    num = 2008\n",
    "    return result, num\n",
    "\n",
    "var1 = input(\"input a name\")\n",
    "var2 = input(\"input another name\")\n",
    "transfer = someFunction(var1, var2)  \n",
    "print(transfer) "
   ]
  },
  {
   "cell_type": "code",
   "execution_count": 14,
   "metadata": {},
   "outputs": [
    {
     "name": "stdout",
     "output_type": "stream",
     "text": [
      "216\n"
     ]
    }
   ],
   "source": [
    "def num_machine(a, b):\n",
    "    result = int(a) + int(b)\n",
    "    result2 = result * int(b)\n",
    "    result3 = result2 ** 3\n",
    "    \n",
    "    return result3\n",
    "\n",
    "var1 = input(\"input a name\")\n",
    "var2 = input(\"input another name\")\n",
    "transfer = num_machine(var1, var2)  \n",
    "print(transfer) "
   ]
  },
  {
   "cell_type": "code",
   "execution_count": 15,
   "metadata": {},
   "outputs": [
    {
     "name": "stdout",
     "output_type": "stream",
     "text": [
      "hello world\n"
     ]
    }
   ],
   "source": [
    "def someFunction(): \n",
    "    def some_function():\n",
    "        print(\"hello world\")\n",
    "    some_function()\n",
    "\n",
    "someFunction()"
   ]
  },
  {
   "cell_type": "code",
   "execution_count": 12,
   "metadata": {},
   "outputs": [
    {
     "name": "stdout",
     "output_type": "stream",
     "text": [
      "36\n",
      "48\n",
      "24\n"
     ]
    }
   ],
   "source": [
    "def multiply(num1, num2, num3=3, num4=4):\n",
    "    return num1 * num2 * num3 * num4\n",
    "\n",
    "print(multiply(1,3)) \n",
    "print(multiply(1,3,4))\n",
    "print(multiply(1,2,3,4))"
   ]
  },
  {
   "cell_type": "code",
   "execution_count": 43,
   "metadata": {},
   "outputs": [
    {
     "name": "stdout",
     "output_type": "stream",
     "text": [
      "codatymanavprasad\n"
     ]
    }
   ],
   "source": [
    "def names(first_name, second_name, last_name):\n",
    "    return first_name + second_name + last_name\n",
    "\n",
    "\n",
    "var1 = input(\"input first name\")\n",
    "var2 = input(\"input second name\")\n",
    "var3 = input(\"input last name\")\n",
    "\n",
    "transfer = names(last_name=var2, second_name=var1, first_name=var3)\n",
    "print(transfer)\n",
    "\n",
    "\n",
    "\n",
    "\n",
    "    "
   ]
  },
  {
   "cell_type": "markdown",
   "metadata": {
    "slideshow": {
     "slide_type": "notes"
    }
   },
   "source": [
    "Homework start"
   ]
  },
  {
   "cell_type": "code",
   "execution_count": 4,
   "metadata": {},
   "outputs": [
    {
     "name": "stdout",
     "output_type": "stream",
     "text": [
      "Your number is even\n"
     ]
    }
   ],
   "source": [
    "def is_even(var1):\n",
    "    if num % 2  == 0:\n",
    "        print(\"Your number is even\")\n",
    "    else:\n",
    "        print(\"Your number is odd\")\n",
    "\n",
    "\n",
    "num = int(input(\"input an integer:\"))\n",
    "transfer  = is_even(num)   \n"
   ]
  },
  {
   "cell_type": "code",
   "execution_count": 13,
   "metadata": {},
   "outputs": [
    {
     "name": "stdout",
     "output_type": "stream",
     "text": [
      "Your number is negative\n"
     ]
    }
   ],
   "source": [
    "def is_positive(var1):\n",
    "\n",
    "    if num > 0:\n",
    "        print(\"Your number is positive\")\n",
    "    else:\n",
    "        print(\"Your number is negative\")\n",
    "\n",
    "\n",
    "num = int(input(\"input an number:\"))\n",
    "transfer  = is_positive(num)"
   ]
  },
  {
   "cell_type": "code",
   "execution_count": 18,
   "metadata": {},
   "outputs": [
    {
     "name": "stdout",
     "output_type": "stream",
     "text": [
      "3\n"
     ]
    }
   ],
   "source": [
    "def max_of_three(x, y, z):\n",
    "    if x > y:\n",
    "        if x > z:\n",
    "            return x\n",
    "        else:\n",
    "            return z\n",
    "    else:\n",
    "        if y > z:\n",
    "            return y\n",
    "        else:\n",
    "            return z\n",
    "        \n",
    "\n",
    "print(max_of_three(1,2,3))\n",
    "        \n"
   ]
  },
  {
   "cell_type": "code",
   "execution_count": 3,
   "metadata": {},
   "outputs": [
    {
     "name": "stdout",
     "output_type": "stream",
     "text": [
      "You got an A\n"
     ]
    }
   ],
   "source": [
    "def grade_converter(var1):\n",
    "    if grade >= 90:\n",
    "        print(\"You got an A\")\n",
    "    elif grade < 90 and grade >= 80:\n",
    "        print(\"You got a B\")\n",
    "    elif grade < 80 and grade >=70:\n",
    "        print(\"You got a C\")\n",
    "    elif grade < 70 and grade >=60:\n",
    "        print(\"You got a D\")\n",
    "    else:\n",
    "        print(\"You got an F\")\n",
    "\n",
    "    \n",
    "\n",
    "grade = int(input(\"Please input your grade:\"))\n",
    "transfer = grade_converter(grade)\n",
    "\n",
    "\n"
   ]
  },
  {
   "cell_type": "code",
   "execution_count": 4,
   "metadata": {},
   "outputs": [
    {
     "name": "stdout",
     "output_type": "stream",
     "text": [
      "These number make up a triangle\n"
     ]
    }
   ],
   "source": [
    "def is_triangle(var1, var2, var3):\n",
    "    if a + b > c or a + c > b or c + b > a:\n",
    "        print(\"These number make up a triangle\")\n",
    "    else:\n",
    "        print(\"These numbers do not make up a triangle\")\n",
    "\n",
    "\n",
    "\n",
    "a = int(input(\"Please input first number:\"))\n",
    "b = int(input(\"Please input second number:\"))\n",
    "c = int(input(\"Please input third number:\"))\n",
    "\n",
    "\n",
    "transfer = is_triangle(a,b,c)"
   ]
  },
  {
   "cell_type": "code",
   "execution_count": 8,
   "metadata": {},
   "outputs": [
    {
     "name": "stdout",
     "output_type": "stream",
     "text": [
      "Your year is not a leap year\n"
     ]
    }
   ],
   "source": [
    "def is_leap_year(var1):\n",
    "    if year % 4 == 0 or year % 400 == 0:\n",
    "        print(\"Your year is a leap year\")\n",
    "    else:\n",
    "        print(\"Your year is not a leap year\")\n",
    "\n",
    "\n",
    "year = int(input(\"Please input year:\"))\n",
    "transfer = is_leap_year(year)"
   ]
  },
  {
   "cell_type": "code",
   "execution_count": 16,
   "metadata": {},
   "outputs": [
    {
     "name": "stdout",
     "output_type": "stream",
     "text": [
      "Your word is a palindrome\n"
     ]
    }
   ],
   "source": [
    "def is_palindrome(var1):\n",
    "    if len(word) >= 5:\n",
    "        if word[0] == word[4] and word[1] == word[3]:\n",
    "            print(\"Your word is a palindrome\")\n",
    "        else:\n",
    "            print(\"Your word is not a palindrome\")\n",
    "    else:\n",
    "        print(\"Your word is not a palindrome\")\n",
    "\n",
    "\n",
    "word = input(\"Please enter your word\")\n",
    "\n",
    "trasnfer = is_palindrome(word)\n"
   ]
  },
  {
   "cell_type": "markdown",
   "metadata": {},
   "source": [
    "Homework end"
   ]
  },
  {
   "cell_type": "code",
   "execution_count": 2,
   "metadata": {},
   "outputs": [
    {
     "name": "stdout",
     "output_type": "stream",
     "text": [
      "0b1101101\n",
      "0x6d\n",
      "0o155\n"
     ]
    }
   ],
   "source": [
    "a = input(\"Please input a character\")\n",
    "ord(a)\n",
    "print(bin(ord(a)))\n",
    "print(hex(ord(a)))\n",
    "print(oct(ord(a)))\n"
   ]
  },
  {
   "cell_type": "code",
   "execution_count": 8,
   "metadata": {},
   "outputs": [
    {
     "name": "stdout",
     "output_type": "stream",
     "text": [
      "6\n"
     ]
    }
   ],
   "source": [
    "def factorial(n):\n",
    "    if n == 0 or n == 1:\n",
    "        return 1\n",
    "    else:\n",
    "        return n * factorial(n - 1)\n",
    "\n",
    "\n",
    "num = int(input(\"Please input a number\"))\n",
    "print(factorial(num))\n"
   ]
  },
  {
   "cell_type": "code",
   "execution_count": null,
   "metadata": {},
   "outputs": [],
   "source": [
    "fruits = [\"apple\", \"banana\", \"cherry\"]\n",
    "for x in fruits:\n",
    "  print(x)\n",
    "  if x == \"banana\":\n",
    "    break"
   ]
  },
  {
   "cell_type": "code",
   "execution_count": 1,
   "metadata": {},
   "outputs": [
    {
     "name": "stdout",
     "output_type": "stream",
     "text": [
      "5050\n"
     ]
    }
   ],
   "source": [
    "print(sum(range(0,101,1)))"
   ]
  },
  {
   "cell_type": "code",
   "execution_count": null,
   "metadata": {},
   "outputs": [],
   "source": [
    "sum_ = 0\n",
    "for i in range(0,101,1):\n",
    "    sum_ += i\n",
    "\n",
    "print(sum_)"
   ]
  },
  {
   "cell_type": "code",
   "execution_count": 1,
   "metadata": {},
   "outputs": [
    {
     "name": "stdout",
     "output_type": "stream",
     "text": [
      "1\n"
     ]
    }
   ],
   "source": [
    "multiply = 1\n",
    "for i in range(0,41,2):\n",
    "    i *= multiply\n",
    "\n",
    "print(multiply)"
   ]
  },
  {
   "cell_type": "markdown",
   "metadata": {},
   "source": [
    "         *\n",
    "        **\n",
    "       ***\n",
    "      ****  \n",
    "     *****\n",
    "    ****** "
   ]
  },
  {
   "cell_type": "code",
   "execution_count": 6,
   "metadata": {},
   "outputs": [
    {
     "name": "stdout",
     "output_type": "stream",
     "text": [
      "*\n",
      "**\n",
      "***\n",
      "****\n",
      "*****\n",
      "******\n"
     ]
    }
   ],
   "source": [
    "n = int(input(\"Enter number of rows\"))\n",
    "for row in range(1, n+1, 1):\n",
    "\tfor star in range(0,row):\n",
    "\t\tprint(\"*\",end=\"\")\n",
    "\tprint()"
   ]
  },
  {
   "cell_type": "code",
   "execution_count": 4,
   "metadata": {},
   "outputs": [
    {
     "name": "stdout",
     "output_type": "stream",
     "text": [
      "     *\n",
      "    **\n",
      "   ***\n",
      "  ****\n",
      " *****\n",
      "******\n"
     ]
    }
   ],
   "source": [
    "n = int(input(\"Enter number of rows\"))\n",
    "for row in range(1, n+1, 1):\n",
    "\tfor space in range(0,n-row,1):\n",
    "\t\tprint(\" \", end=\"\")\n",
    "\tfor star in range(0,row):\n",
    "\t\tprint(\"*\",end=\"\")\n",
    "\tprint()"
   ]
  },
  {
   "cell_type": "code",
   "execution_count": 5,
   "metadata": {},
   "outputs": [
    {
     "name": "stdout",
     "output_type": "stream",
     "text": [
      "***** \n",
      "****  \n",
      "***   \n",
      "**    \n",
      "*     \n",
      "      \n"
     ]
    }
   ],
   "source": [
    "n = int(input(\"Enter number of rows\"))\n",
    "for row in range(1, n+1, 1):\n",
    "\tfor space in range(0,n-row,1):\n",
    "\t\tprint(\"*\", end=\"\")\n",
    "\tfor star in range(0,row):\n",
    "\t\tprint(\" \",end=\"\")\n",
    "\tprint()"
   ]
  },
  {
   "cell_type": "code",
   "execution_count": 2,
   "metadata": {},
   "outputs": [
    {
     "name": "stdout",
     "output_type": "stream",
     "text": [
      "***** \n",
      "****  \n",
      "***   \n",
      "**    \n",
      "*     \n",
      "      \n"
     ]
    }
   ],
   "source": [
    "n = int(input(\"Enter number of rows\"))\n",
    "for row in range(1, n+1, 1):\n",
    "\tfor space in range(0,n-row,1):\n",
    "\t\tprint(\"*\", end=\"\")\n",
    "\tfor star in range(0,row):\n",
    "\t\tprint(\" \",end=\"\")\n",
    "\tprint()"
   ]
  },
  {
   "cell_type": "code",
   "execution_count": 1,
   "metadata": {},
   "outputs": [
    {
     "name": "stdout",
     "output_type": "stream",
     "text": [
      "-\n",
      "--\n",
      "---\n",
      "----\n",
      "-----\n",
      "------\n"
     ]
    }
   ],
   "source": [
    "n = int(input(\"Enter number of rows\"))\n",
    "for row in range(1, n+1, 1):\n",
    "\tfor star in range(0,row):\n",
    "\t\tprint(\"-\",end=\"\")\n",
    "\tprint()"
   ]
  },
  {
   "cell_type": "code",
   "execution_count": 17,
   "metadata": {},
   "outputs": [
    {
     "name": "stdout",
     "output_type": "stream",
     "text": [
      "               *  \n",
      "            *  *  \n",
      "         *  *  *  \n",
      "      *  *  *  *  \n",
      "   *  *  *  *  *  \n",
      "*  *  *  *  *  *  \n"
     ]
    }
   ],
   "source": [
    "n = int(input(\"Enter number of rows\"))\n",
    "for row in range(1, n+1, 1):\n",
    "\tfor space in range(0,n-row,1):\n",
    "\t\tprint(\" \", end=\"  \")\n",
    "\tfor star in range(0,row):\n",
    "\t\tprint(\"*\",end=\"  \")\n",
    "\tprint()"
   ]
  },
  {
   "cell_type": "code",
   "execution_count": 31,
   "metadata": {},
   "outputs": [
    {
     "name": "stdout",
     "output_type": "stream",
     "text": [
      "            *  \n",
      "         *  *  *  \n",
      "      *  *  *  *  *  \n",
      "   *  *  *  *  *  *  *  \n",
      "*  *  *  *  *  *  *  *  *  \n"
     ]
    }
   ],
   "source": [
    "def print_stars(n): # n=6\n",
    "   for row in range(1, n+1, 1):  # 1 to 7 -> 1, [2], 3, 4, 5, 6\n",
    "      # row -> 2\n",
    "      for space in range(0,n-row,1): # 4 spaces\n",
    "         print(\" \", end=\"  \")\n",
    "      for star in range(0,(row+(row-1))):  # row = 2, row - 1 -> 1, so row + (row - 1) -> 3, range(0, 3)\n",
    "         print(\"*\",end=\"  \") # only 3 star\n",
    "      print()\n",
    "1\n",
    "\n",
    "def main():\n",
    "   n = int(input(\"Enter number of rows\"))\n",
    "   print_stars(n)\n",
    "\n",
    "\n",
    "main()\n",
    "\t\t"
   ]
  },
  {
   "cell_type": "code",
   "execution_count": 15,
   "metadata": {},
   "outputs": [
    {
     "name": "stdout",
     "output_type": "stream",
     "text": [
      "2\n"
     ]
    }
   ],
   "source": [
    "main_string = input(\"Please input first string\")\n",
    "sub_string = input(\"Please input second string\")\n",
    "\n",
    "main_string2 = main_string.lower()\n",
    "sub_string2 = sub_string.lower()\n",
    "\n",
    "counter = 0\n",
    "\n",
    "for i in main_string2:\n",
    "    if i == sub_string2:\n",
    "        counter = counter + 1\n",
    "print(counter)"
   ]
  },
  {
   "cell_type": "code",
   "execution_count": 1,
   "metadata": {},
   "outputs": [
    {
     "name": "stdout",
     "output_type": "stream",
     "text": [
      "mnv\n"
     ]
    }
   ],
   "source": [
    "main_string = input(\"Please input first string\")\n",
    "sub_string = input(\"Please input second string\")\n",
    "\n",
    "main_string2 = main_string.lower()\n",
    "sub_string2 = sub_string.lower()\n",
    "\n",
    "s = \"\"\n",
    "for i in main_string2:\n",
    "    if i != sub_string2:\n",
    "        s += i\n",
    "print(s)"
   ]
  },
  {
   "cell_type": "code",
   "execution_count": 5,
   "metadata": {},
   "outputs": [
    {
     "name": "stdout",
     "output_type": "stream",
     "text": [
      "2\n",
      "4\n",
      "6\n",
      "8\n",
      "10\n",
      "12\n",
      "14\n",
      "16\n",
      "18\n",
      "20\n"
     ]
    }
   ],
   "source": [
    "for i in range(2, 22, 2):\n",
    "    print(i)"
   ]
  },
  {
   "cell_type": "code",
   "execution_count": null,
   "metadata": {},
   "outputs": [
    {
     "name": "stdout",
     "output_type": "stream",
     "text": [
      "The factorial of 5 is 120\n"
     ]
    }
   ],
   "source": [
    "def factorial(n):\n",
    "  if n == 0:\n",
    "    return 1\n",
    "  else:\n",
    "    return n * factorial(n - 1)\n",
    "\n",
    "num = int(input(\"Enter a number: \"))\n",
    "print(\"The factorial of\", num, \"is\", factorial(num))\n"
   ]
  },
  {
   "cell_type": "code",
   "execution_count": 2,
   "metadata": {},
   "outputs": [
    {
     "name": "stdout",
     "output_type": "stream",
     "text": [
      "[0, 1, 1, 2, 3]\n"
     ]
    }
   ],
   "source": [
    "#2 variables \n",
    "#last is 0\n",
    "#second last 1 \n",
    "# for loop for \n",
    "#print last second last+last\n",
    "#temp = last\n",
    "#last = second last + last\n",
    "\n",
    "def generate_fibonacci_sequence(n):\n",
    "    fibonacci_sequence = [0, 1]\n",
    "\n",
    "    for _ in range(2, n):\n",
    "        fibonacci_sequence.append(fibonacci_sequence[-1] + fibonacci_sequence[-2])\n",
    "\n",
    "    return fibonacci_sequence\n",
    "\n",
    "N = int(input(\"Enter the number of Fibonacci numbers to generate: \"))\n",
    "\n",
    "fib_sequence = generate_fibonacci_sequence(N)\n",
    "print(fib_sequence)\n",
    "\n"
   ]
  },
  {
   "cell_type": "code",
   "execution_count": null,
   "metadata": {},
   "outputs": [],
   "source": [
    "def is_prime(number):\n",
    "    if number <= 1:\n",
    "        return False\n",
    "    for i in range(2, number):\n",
    "        if number % i == 0:\n",
    "            return False\n",
    "    return True\n",
    "\n",
    "start = int(input(\"Enter the starting number: \"))\n",
    "end = int(input(\"Enter the ending number: \"))\n",
    "\n",
    "print(\"Prime numbers in the range {} to {}:\".format(start, end))\n",
    "for num in range(start, end + 1):\n",
    "    if is_prime(num):\n",
    "        print(num, end=\" \")\n"
   ]
  },
  {
   "cell_type": "code",
   "execution_count": 3,
   "metadata": {},
   "outputs": [
    {
     "name": "stdout",
     "output_type": "stream",
     "text": [
      "Multiplication table for 5 from 20 to 40:\n",
      "5 x 20 = 100\n",
      "5 x 21 = 105\n",
      "5 x 22 = 110\n",
      "5 x 23 = 115\n",
      "5 x 24 = 120\n",
      "5 x 25 = 125\n",
      "5 x 26 = 130\n",
      "5 x 27 = 135\n",
      "5 x 28 = 140\n",
      "5 x 29 = 145\n",
      "5 x 30 = 150\n",
      "5 x 31 = 155\n",
      "5 x 32 = 160\n",
      "5 x 33 = 165\n",
      "5 x 34 = 170\n",
      "5 x 35 = 175\n",
      "5 x 36 = 180\n",
      "5 x 37 = 185\n",
      "5 x 38 = 190\n",
      "5 x 39 = 195\n",
      "5 x 40 = 200\n"
     ]
    }
   ],
   "source": [
    "number = int(input(\"Enter the number for the multiplication table: \"))\n",
    "range_start = int(input(\"Enter the starting range: \"))\n",
    "range_end = int(input(\"Enter the ending range: \"))\n",
    "\n",
    "print(f\"Multiplication table for {number} from {range_start} to {range_end}:\")\n",
    "for i in range(range_start, range_end + 1):\n",
    "    result = number * i\n",
    "    print(f\"{number} x {i} = {result}\")\n"
   ]
  },
  {
   "cell_type": "code",
   "execution_count": 4,
   "metadata": {},
   "outputs": [
    {
     "name": "stdout",
     "output_type": "stream",
     "text": [
      "Reversed string: olleh\n"
     ]
    }
   ],
   "source": [
    "input_string = input(\"Enter a string: \")\n",
    "reversed_string = \"\"\n",
    "\n",
    "for char in input_string:\n",
    "    reversed_string = char + reversed_string\n",
    "\n",
    "print(\"Reversed string:\", reversed_string)\n"
   ]
  }
 ],
 "metadata": {
  "kernelspec": {
   "display_name": "Python 3",
   "language": "python",
   "name": "python3"
  },
  "language_info": {
   "codemirror_mode": {
    "name": "ipython",
    "version": 3
   },
   "file_extension": ".py",
   "mimetype": "text/x-python",
   "name": "python",
   "nbconvert_exporter": "python",
   "pygments_lexer": "ipython3",
   "version": "3.10.11"
  },
  "orig_nbformat": 4
 },
 "nbformat": 4,
 "nbformat_minor": 2
}
